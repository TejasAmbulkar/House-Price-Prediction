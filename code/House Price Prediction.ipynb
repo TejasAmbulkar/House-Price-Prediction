{
 "cells": [
  {
   "cell_type": "code",
   "execution_count": 1,
   "metadata": {},
   "outputs": [],
   "source": [
    "import pandas as pd\n",
    "import numpy as np"
   ]
  },
  {
   "cell_type": "markdown",
   "metadata": {},
   "source": [
    "## Reading Data"
   ]
  },
  {
   "cell_type": "code",
   "execution_count": 2,
   "metadata": {},
   "outputs": [
    {
     "data": {
      "text/html": [
       "<div>\n",
       "<style scoped>\n",
       "    .dataframe tbody tr th:only-of-type {\n",
       "        vertical-align: middle;\n",
       "    }\n",
       "\n",
       "    .dataframe tbody tr th {\n",
       "        vertical-align: top;\n",
       "    }\n",
       "\n",
       "    .dataframe thead th {\n",
       "        text-align: right;\n",
       "    }\n",
       "</style>\n",
       "<table border=\"1\" class=\"dataframe\">\n",
       "  <thead>\n",
       "    <tr style=\"text-align: right;\">\n",
       "      <th></th>\n",
       "      <th>CRIM</th>\n",
       "      <th>ZN</th>\n",
       "      <th>INDUS</th>\n",
       "      <th>CHAS</th>\n",
       "      <th>NOX</th>\n",
       "      <th>RM</th>\n",
       "      <th>AGE</th>\n",
       "      <th>DIS</th>\n",
       "      <th>RAD</th>\n",
       "      <th>TAX</th>\n",
       "      <th>PTRATIO</th>\n",
       "      <th>B</th>\n",
       "      <th>LSTAT</th>\n",
       "      <th>MEDV</th>\n",
       "    </tr>\n",
       "  </thead>\n",
       "  <tbody>\n",
       "    <tr>\n",
       "      <th>0</th>\n",
       "      <td>0.00632</td>\n",
       "      <td>18.0</td>\n",
       "      <td>2.31</td>\n",
       "      <td>0</td>\n",
       "      <td>0.538</td>\n",
       "      <td>6.575</td>\n",
       "      <td>65.2</td>\n",
       "      <td>4.0900</td>\n",
       "      <td>1</td>\n",
       "      <td>296</td>\n",
       "      <td>15.3</td>\n",
       "      <td>396.90</td>\n",
       "      <td>4.98</td>\n",
       "      <td>24.0</td>\n",
       "    </tr>\n",
       "    <tr>\n",
       "      <th>1</th>\n",
       "      <td>0.02731</td>\n",
       "      <td>0.0</td>\n",
       "      <td>7.07</td>\n",
       "      <td>0</td>\n",
       "      <td>0.469</td>\n",
       "      <td>6.421</td>\n",
       "      <td>78.9</td>\n",
       "      <td>4.9671</td>\n",
       "      <td>2</td>\n",
       "      <td>242</td>\n",
       "      <td>17.8</td>\n",
       "      <td>396.90</td>\n",
       "      <td>9.14</td>\n",
       "      <td>21.6</td>\n",
       "    </tr>\n",
       "    <tr>\n",
       "      <th>2</th>\n",
       "      <td>0.02729</td>\n",
       "      <td>0.0</td>\n",
       "      <td>7.07</td>\n",
       "      <td>0</td>\n",
       "      <td>0.469</td>\n",
       "      <td>7.185</td>\n",
       "      <td>61.1</td>\n",
       "      <td>4.9671</td>\n",
       "      <td>2</td>\n",
       "      <td>242</td>\n",
       "      <td>17.8</td>\n",
       "      <td>392.83</td>\n",
       "      <td>4.03</td>\n",
       "      <td>34.7</td>\n",
       "    </tr>\n",
       "    <tr>\n",
       "      <th>3</th>\n",
       "      <td>0.03237</td>\n",
       "      <td>0.0</td>\n",
       "      <td>2.18</td>\n",
       "      <td>0</td>\n",
       "      <td>0.458</td>\n",
       "      <td>6.998</td>\n",
       "      <td>45.8</td>\n",
       "      <td>6.0622</td>\n",
       "      <td>3</td>\n",
       "      <td>222</td>\n",
       "      <td>18.7</td>\n",
       "      <td>394.63</td>\n",
       "      <td>2.94</td>\n",
       "      <td>33.4</td>\n",
       "    </tr>\n",
       "    <tr>\n",
       "      <th>4</th>\n",
       "      <td>0.06905</td>\n",
       "      <td>0.0</td>\n",
       "      <td>2.18</td>\n",
       "      <td>0</td>\n",
       "      <td>0.458</td>\n",
       "      <td>7.147</td>\n",
       "      <td>54.2</td>\n",
       "      <td>6.0622</td>\n",
       "      <td>3</td>\n",
       "      <td>222</td>\n",
       "      <td>18.7</td>\n",
       "      <td>396.90</td>\n",
       "      <td>5.33</td>\n",
       "      <td>36.2</td>\n",
       "    </tr>\n",
       "  </tbody>\n",
       "</table>\n",
       "</div>"
      ],
      "text/plain": [
       "      CRIM    ZN  INDUS  CHAS    NOX     RM   AGE     DIS  RAD  TAX  PTRATIO  \\\n",
       "0  0.00632  18.0   2.31     0  0.538  6.575  65.2  4.0900    1  296     15.3   \n",
       "1  0.02731   0.0   7.07     0  0.469  6.421  78.9  4.9671    2  242     17.8   \n",
       "2  0.02729   0.0   7.07     0  0.469  7.185  61.1  4.9671    2  242     17.8   \n",
       "3  0.03237   0.0   2.18     0  0.458  6.998  45.8  6.0622    3  222     18.7   \n",
       "4  0.06905   0.0   2.18     0  0.458  7.147  54.2  6.0622    3  222     18.7   \n",
       "\n",
       "        B  LSTAT  MEDV  \n",
       "0  396.90   4.98  24.0  \n",
       "1  396.90   9.14  21.6  \n",
       "2  392.83   4.03  34.7  \n",
       "3  394.63   2.94  33.4  \n",
       "4  396.90   5.33  36.2  "
      ]
     },
     "execution_count": 2,
     "metadata": {},
     "output_type": "execute_result"
    }
   ],
   "source": [
    "df=pd.read_csv('E:\\Project\\Prediction\\data.csv')\n",
    "df.head(5)"
   ]
  },
  {
   "cell_type": "code",
   "execution_count": 3,
   "metadata": {},
   "outputs": [
    {
     "data": {
      "text/plain": [
       "CRIM       0\n",
       "ZN         0\n",
       "INDUS      0\n",
       "CHAS       0\n",
       "NOX        0\n",
       "RM         5\n",
       "AGE        0\n",
       "DIS        0\n",
       "RAD        0\n",
       "TAX        0\n",
       "PTRATIO    0\n",
       "B          0\n",
       "LSTAT      0\n",
       "MEDV       0\n",
       "dtype: int64"
      ]
     },
     "execution_count": 3,
     "metadata": {},
     "output_type": "execute_result"
    }
   ],
   "source": [
    "df.isnull().sum()"
   ]
  },
  {
   "cell_type": "code",
   "execution_count": 4,
   "metadata": {},
   "outputs": [
    {
     "data": {
      "text/plain": [
       "0    471\n",
       "1     35\n",
       "Name: CHAS, dtype: int64"
      ]
     },
     "execution_count": 4,
     "metadata": {},
     "output_type": "execute_result"
    }
   ],
   "source": [
    "df['CHAS'].value_counts()"
   ]
  },
  {
   "cell_type": "code",
   "execution_count": 5,
   "metadata": {},
   "outputs": [
    {
     "data": {
      "text/plain": [
       "CRIM       0\n",
       "ZN         0\n",
       "INDUS      0\n",
       "CHAS       0\n",
       "NOX        0\n",
       "RM         0\n",
       "AGE        0\n",
       "DIS        0\n",
       "RAD        0\n",
       "TAX        0\n",
       "PTRATIO    0\n",
       "B          0\n",
       "LSTAT      0\n",
       "MEDV       0\n",
       "dtype: int64"
      ]
     },
     "execution_count": 5,
     "metadata": {},
     "output_type": "execute_result"
    }
   ],
   "source": [
    "df.fillna(df.mean(),inplace=True)\n",
    "df.isnull().sum()"
   ]
  },
  {
   "cell_type": "code",
   "execution_count": 6,
   "metadata": {},
   "outputs": [
    {
     "data": {
      "text/plain": [
       "(506, 14)"
      ]
     },
     "execution_count": 6,
     "metadata": {},
     "output_type": "execute_result"
    }
   ],
   "source": [
    "df.shape"
   ]
  },
  {
   "cell_type": "code",
   "execution_count": 7,
   "metadata": {},
   "outputs": [
    {
     "data": {
      "text/plain": [
       "<AxesSubplot:xlabel='RM', ylabel='MEDV'>"
      ]
     },
     "execution_count": 7,
     "metadata": {},
     "output_type": "execute_result"
    },
    {
     "data": {
      "image/png": "[encoded data removed]",
      "text/plain": [
       "<Figure size 432x288 with 1 Axes>"
      ]
     },
     "metadata": {
      "needs_background": "light"
     },
     "output_type": "display_data"
    }
   ],
   "source": [
    "df.plot(kind='scatter',x='RM',y='MEDV',alpha=1)"
   ]
  },
  {
   "cell_type": "markdown",
   "metadata": {},
   "source": [
    "## Train-Test Splitting"
   ]
  },
  {
   "cell_type": "code",
   "execution_count": 8,
   "metadata": {},
   "outputs": [
    {
     "name": "stdout",
     "output_type": "stream",
     "text": [
      "Rows in train set: 404\n",
      "Rows in test set: 102\n",
      "\n"
     ]
    }
   ],
   "source": [
    "from sklearn.model_selection import train_test_split\n",
    "train_set,test_set= train_test_split(df,random_state=42,test_size=0.2)\n",
    "print(f\"Rows in train set: {len(train_set)}\\nRows in test set: {len(test_set)}\\n\")"
   ]
  },
  {
   "cell_type": "markdown",
   "metadata": {},
   "source": [
    "## Shuffle-Split"
   ]
  },
  {
   "cell_type": "code",
   "execution_count": 9,
   "metadata": {},
   "outputs": [],
   "source": [
    "from sklearn.model_selection import StratifiedShuffleSplit\n",
    "split= StratifiedShuffleSplit(n_splits=1,test_size=0.2,random_state=42)\n",
    "for train_index,test_index in split.split(df,df['CHAS']):\n",
    "    strat_test_set=df.iloc[test_index]\n",
    "    strat_train_set=df.iloc[train_index]"
   ]
  },
  {
   "cell_type": "code",
   "execution_count": 10,
   "metadata": {},
   "outputs": [
    {
     "data": {
      "text/plain": [
       "0    95\n",
       "1     7\n",
       "Name: CHAS, dtype: int64"
      ]
     },
     "execution_count": 10,
     "metadata": {},
     "output_type": "execute_result"
    }
   ],
   "source": [
    "strat_test_set['CHAS'].value_counts()"
   ]
  },
  {
   "cell_type": "code",
   "execution_count": 11,
   "metadata": {},
   "outputs": [
    {
     "data": {
      "text/plain": [
       "0    376\n",
       "1     28\n",
       "Name: CHAS, dtype: int64"
      ]
     },
     "execution_count": 11,
     "metadata": {},
     "output_type": "execute_result"
    }
   ],
   "source": [
    "strat_train_set['CHAS'].value_counts()"
   ]
  },
  {
   "cell_type": "code",
   "execution_count": 12,
   "metadata": {},
   "outputs": [],
   "source": [
    "dftt=strat_train_set.drop(['MEDV'],axis=1)\n",
    "dftt_label=strat_train_set['MEDV']"
   ]
  },
  {
   "cell_type": "code",
   "execution_count": 13,
   "metadata": {},
   "outputs": [
    {
     "data": {
      "text/plain": [
       "254    21.9\n",
       "348    24.5\n",
       "476    16.7\n",
       "321    23.1\n",
       "326    23.0\n",
       "Name: MEDV, dtype: float64"
      ]
     },
     "execution_count": 13,
     "metadata": {},
     "output_type": "execute_result"
    }
   ],
   "source": [
    "dftt_label.head(5)"
   ]
  },
  {
   "cell_type": "code",
   "execution_count": 14,
   "metadata": {},
   "outputs": [
    {
     "data": {
      "text/plain": [
       "(404, 13)"
      ]
     },
     "execution_count": 14,
     "metadata": {},
     "output_type": "execute_result"
    }
   ],
   "source": [
    "dftt.shape"
   ]
  },
  {
   "cell_type": "markdown",
   "metadata": {},
   "source": [
    "## Creating Pipeline"
   ]
  },
  {
   "cell_type": "code",
   "execution_count": 15,
   "metadata": {},
   "outputs": [],
   "source": [
    "from sklearn.pipeline import Pipeline\n",
    "from sklearn.preprocessing import StandardScaler\n",
    "my_pipe=Pipeline([\n",
    "    ('std_scaler',StandardScaler())\n",
    "])"
   ]
  },
  {
   "cell_type": "code",
   "execution_count": 16,
   "metadata": {},
   "outputs": [
    {
     "data": {
      "text/plain": [
       "(404, 13)"
      ]
     },
     "execution_count": 16,
     "metadata": {},
     "output_type": "execute_result"
    }
   ],
   "source": [
    "dftt_pp=my_pipe.fit_transform(dftt)\n",
    "dftt_pp.shape"
   ]
  },
  {
   "cell_type": "markdown",
   "metadata": {},
   "source": [
    "## Using Algorithm"
   ]
  },
  {
   "cell_type": "code",
   "execution_count": 17,
   "metadata": {},
   "outputs": [
    {
     "data": {
      "text/plain": [
       "RandomForestRegressor()"
      ]
     },
     "execution_count": 17,
     "metadata": {},
     "output_type": "execute_result"
    }
   ],
   "source": [
    "#from sklearn.linear_model import LinearRegression\n",
    "#from sklearn.tree import DecisionTreeRegressor\n",
    "#from sklearn.ensemble import GradientBoostingRegressor\n",
    "from sklearn.ensemble import RandomForestRegressor\n",
    "#model=LinearRegression()\n",
    "#model=DecisionTreeRegressor()\n",
    "#model=GradientBoostingRegressor()\n",
    "model=RandomForestRegressor()\n",
    "model.fit(dftt_pp,dftt_label)"
   ]
  },
  {
   "cell_type": "code",
   "execution_count": 18,
   "metadata": {},
   "outputs": [
    {
     "data": {
      "text/plain": [
       "array([22.43 , 25.644, 16.492, 23.377, 23.472, 17.211, 24.547, 26.463,\n",
       "       10.703, 32.362, 15.885, 18.366, 10.983, 34.224, 22.796, 13.96 ,\n",
       "       18.515, 17.613,  7.009, 20.415, 19.019, 17.128, 18.217, 27.306,\n",
       "       24.388, 24.702, 13.578, 21.026, 14.931, 28.438, 14.439, 18.008,\n",
       "       11.305, 13.104, 20.275, 27.199, 23.368, 47.444, 33.336, 20.121,\n",
       "       22.147, 35.529, 36.596,  9.465, 20.084, 12.501, 21.41 , 27.75 ,\n",
       "       22.851,  7.582, 25.005, 22.937, 23.714, 31.023, 14.927, 37.882,\n",
       "       21.576, 25.464, 33.561, 17.118, 19.801, 19.786, 28.038, 21.11 ,\n",
       "       14.349, 31.547, 49.628, 14.865, 26.958, 34.695, 22.405, 36.468,\n",
       "       23.315, 10.064, 20.599, 27.523, 25.679, 15.234, 16.358, 18.813,\n",
       "       31.757,  8.523, 19.443, 18.912, 26.104, 23.363, 30.214, 25.098,\n",
       "       29.259, 16.509, 23.041, 29.776, 28.039, 20.016, 21.124, 34.595,\n",
       "       29.789, 19.928, 23.372, 17.039, 12.476, 46.059, 20.337, 44.178,\n",
       "       16.931, 15.897, 19.85 , 21.87 , 27.502, 17.16 , 17.053,  7.714,\n",
       "       14.927, 20.815, 11.292, 18.931, 13.842, 36.056, 24.377, 15.857,\n",
       "       22.615,  8.33 ,  8.733, 19.745, 24.061, 14.15 , 15.96 , 24.223,\n",
       "       12.744, 21.804, 23.015, 12.69 , 18.345, 12.101, 47.853, 17.927,\n",
       "       23.9  , 23.542, 22.007, 49.41 , 15.04 , 21.659, 27.773, 19.098,\n",
       "       32.835, 17.682, 21.138, 19.152, 20.523,  8.894, 23.9  , 16.161,\n",
       "       36.221, 16.123, 26.822, 13.853, 18.214, 19.489, 24.121, 19.398,\n",
       "       25.197, 24.798, 28.105, 19.441, 47.764, 15.074, 24.077, 48.166,\n",
       "       26.248, 23.886, 20.981, 27.159, 44.871, 22.529, 22.01 , 23.665,\n",
       "       14.063, 24.094,  8.864, 19.015, 41.594, 14.407, 20.958, 29.738,\n",
       "       22.053, 26.545, 18.714, 27.364, 20.719, 31.031, 21.555, 30.517,\n",
       "       21.636, 24.049, 16.036, 11.87 , 32.866, 31.222, 34.536, 23.148,\n",
       "       17.775, 49.414, 19.585, 21.857, 28.846, 17.61 , 14.278, 22.709,\n",
       "       22.386, 12.482, 26.391, 16.878, 22.848, 45.872, 21.948, 33.674,\n",
       "       15.218, 27.845, 14.524, 10.718, 22.033, 19.544, 19.387, 18.267,\n",
       "       19.278, 14.319, 10.571, 21.646, 19.762, 19.988, 17.758, 23.311,\n",
       "       24.351, 16.972, 25.373, 34.867, 20.351, 10.09 , 13.86 , 20.734,\n",
       "       13.594,  9.431, 31.127, 18.314, 21.333, 20.727, 22.711, 23.378,\n",
       "       24.449, 30.623, 12.605, 20.999, 20.018, 21.085, 19.775, 16.313,\n",
       "       48.186, 47.773, 19.599, 11.941, 14.443, 45.318, 25.63 ,  9.943,\n",
       "       46.064, 14.285, 46.577, 23.621, 26.93 , 17.332, 35.02 , 22.069,\n",
       "       19.167, 21.626, 22.565, 32.567, 14.409, 13.051, 20.112, 33.281,\n",
       "       17.592, 22.52 , 17.615, 31.115, 36.163, 23.699, 21.292, 10.343,\n",
       "       22.564, 46.898, 22.196, 11.163, 11.657, 13.653, 16.019, 20.589,\n",
       "       15.192, 41.7  , 15.318, 47.741, 20.77 , 22.196, 45.819, 34.721,\n",
       "       21.592,  8.09 ,  8.005, 23.561, 20.337, 20.154, 17.429, 27.842,\n",
       "       19.28 , 21.35 , 23.796, 25.03 , 35.428, 29.294, 43.796, 21.153,\n",
       "       17.614, 19.79 , 20.622, 17.071, 22.115, 47.93 , 20.252, 17.638,\n",
       "       23.902, 17.003, 34.94 , 18.939, 19.343, 19.396, 24.188,  9.679,\n",
       "       20.96 , 19.101, 17.777, 18.475, 18.419, 18.739, 12.648, 23.19 ,\n",
       "       25.2  , 16.812, 18.596, 19.113, 15.227, 20.49 , 20.775, 14.519,\n",
       "       23.755, 21.917, 19.46 , 22.187, 20.352, 30.209, 20.487, 22.101,\n",
       "       17.955, 13.134, 13.895, 25.62 , 35.495, 47.412, 22.165, 18.59 ,\n",
       "       23.479, 19.028, 13.747, 30.41 , 23.278, 46.601, 14.67 , 14.462,\n",
       "       20.505,  8.644, 23.599, 19.453, 41.059, 28.973, 18.126, 13.595,\n",
       "       13.173, 19.528, 39.907, 24.042, 33.948, 18.953, 24.38 ,  9.492,\n",
       "        8.742, 16.122, 14.966, 26.174, 32.986,  6.406, 20.805, 16.213,\n",
       "       13.468, 44.251, 14.39 , 23.007])"
      ]
     },
     "execution_count": 18,
     "metadata": {},
     "output_type": "execute_result"
    }
   ],
   "source": [
    "dftt_pp_lol=model.predict(dftt_pp)\n",
    "dftt_pp_lol"
   ]
  },
  {
   "cell_type": "code",
   "execution_count": 19,
   "metadata": {},
   "outputs": [
    {
     "data": {
      "text/plain": [
       "[21.9, 24.5, 16.7, 23.1, 23.0]"
      ]
     },
     "execution_count": 19,
     "metadata": {},
     "output_type": "execute_result"
    }
   ],
   "source": [
    "list(dftt_label.head(5))"
   ]
  },
  {
   "cell_type": "markdown",
   "metadata": {},
   "source": [
    "## Validating the Algorithm"
   ]
  },
  {
   "cell_type": "code",
   "execution_count": 20,
   "metadata": {},
   "outputs": [
    {
     "data": {
      "text/plain": [
       "1.1977496670220713"
      ]
     },
     "execution_count": 20,
     "metadata": {},
     "output_type": "execute_result"
    }
   ],
   "source": [
    "from sklearn.metrics import mean_squared_error\n",
    "mse=mean_squared_error(dftt_label,dftt_pp_lol)\n",
    "rmse=np.sqrt(mse)\n",
    "rmse"
   ]
  },
  {
   "cell_type": "markdown",
   "metadata": {},
   "source": [
    "## Cross-Validation"
   ]
  },
  {
   "cell_type": "code",
   "execution_count": 21,
   "metadata": {},
   "outputs": [
    {
     "data": {
      "text/plain": [
       "array([2.82153053, 2.92820375, 4.42278777, 2.43916311, 3.4476478 ,\n",
       "       2.73790615, 4.56633161, 3.34982587, 3.28067127, 3.35713055])"
      ]
     },
     "execution_count": 21,
     "metadata": {},
     "output_type": "execute_result"
    }
   ],
   "source": [
    "from sklearn.model_selection import cross_val_score\n",
    "score= cross_val_score(model,dftt_pp,dftt_label,scoring='neg_mean_squared_error',cv=10)\n",
    "rmse2=np.sqrt(-score)\n",
    "rmse2"
   ]
  },
  {
   "cell_type": "markdown",
   "metadata": {},
   "source": [
    "## Prediction using Test Set"
   ]
  },
  {
   "cell_type": "code",
   "execution_count": 22,
   "metadata": {},
   "outputs": [],
   "source": [
    "final_test1=strat_test_set.drop(['MEDV'],axis=1)\n",
    "final_test2=strat_test_set['MEDV']\n"
   ]
  },
  {
   "cell_type": "code",
   "execution_count": 23,
   "metadata": {},
   "outputs": [
    {
     "data": {
      "text/plain": [
       "array([24.76 ,  9.767, 25.608, 20.983, 17.214, 14.321, 18.843, 14.692,\n",
       "       32.161, 42.634, 18.869,  8.859, 24.729, 27.552, 20.387, 12.508,\n",
       "       32.603, 14.737, 23.418, 17.218, 19.16 , 15.306, 16.267, 21.537,\n",
       "       18.531, 31.095, 16.434, 32.219,  9.809, 34.459, 23.744, 20.953,\n",
       "       22.969,  8.823, 19.909, 12.564, 42.174, 24.3  , 23.543, 44.254,\n",
       "       23.222, 25.627, 19.634, 22.131, 15.671, 33.102, 44.966, 21.058,\n",
       "       18.461, 21.885, 21.432, 14.581, 18.89 , 15.118, 25.222, 33.716,\n",
       "       41.115, 28.855, 18.307, 21.093, 46.742, 10.633, 19.005, 22.923,\n",
       "       14.463, 39.433, 19.158, 16.788, 17.916, 34.523, 25.516, 22.885,\n",
       "       19.916, 23.214, 35.395, 13.093, 15.351, 20.243, 21.495, 21.462,\n",
       "       22.538, 21.709, 14.077, 23.259, 21.397, 21.324, 14.409, 20.948,\n",
       "       21.818, 23.625, 17.839, 26.918,  8.947, 25.743, 15.812, 30.41 ,\n",
       "       19.631, 31.136, 13.803, 26.032, 18.536, 16.841])"
      ]
     },
     "execution_count": 23,
     "metadata": {},
     "output_type": "execute_result"
    }
   ],
   "source": [
    "final_test=my_pipe.fit_transform(final_test1)\n",
    "test_prediction=model.predict(final_test)\n",
    "test_prediction"
   ]
  },
  {
   "cell_type": "code",
   "execution_count": 24,
   "metadata": {},
   "outputs": [
    {
     "data": {
      "text/plain": [
       "['PricePrediction.joblib']"
      ]
     },
     "execution_count": 24,
     "metadata": {},
     "output_type": "execute_result"
    }
   ],
   "source": [
    "from joblib import dump, load\n",
    "dump(model, 'PricePrediction.joblib') "
   ]
  },
  {
   "cell_type": "code",
   "execution_count": 25,
   "metadata": {},
   "outputs": [
    {
     "data": {
      "text/plain": [
       "array([20.313])"
      ]
     },
     "execution_count": 25,
     "metadata": {},
     "output_type": "execute_result"
    }
   ],
   "source": [
    "from joblib import dump, load\n",
    "import numpy as np\n",
    "model = load('PricePrediction.joblib') \n",
    "features = np.array([[4.87141, 0.0, 18.10, 0, 0.614, 6.484, 93.6, 2.3053, 666, 20.2, 396.21, 18.68, 102.714374]])\n",
    "model.predict(features)"
   ]
  },
  {
   "cell_type": "code",
   "execution_count": null,
   "metadata": {},
   "outputs": [],
   "source": []
  }
 ],
 "metadata": {
  "kernelspec": {
   "display_name": "Python 3",
   "language": "python",
   "name": "python3"
  },
  "language_info": {
   "codemirror_mode": {
    "name": "ipython",
    "version": 3
   },
   "file_extension": ".py",
   "mimetype": "text/x-python",
   "name": "python",
   "nbconvert_exporter": "python",
   "pygments_lexer": "ipython3",
   "version": "3.8.3"
  }
 },
 "nbformat": 4,
 "nbformat_minor": 4
}
